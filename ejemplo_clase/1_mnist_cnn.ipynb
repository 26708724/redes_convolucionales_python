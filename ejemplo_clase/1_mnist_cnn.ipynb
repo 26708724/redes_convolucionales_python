{
 "cells": [
  {
   "cell_type": "markdown",
   "metadata": {
    "id": "67RBrvkUviuj"
   },
   "source": [
    "<a href=\"https://www.inove.com.ar\"><img src=\"https://raw.githubusercontent.com/InoveAlumnos/dataset_analytics_python/master/images/PA%20Banner.png\" width=\"1000\" align=\"center\"></a>\n",
    "\n",
    "\n",
    "# Ejercicio de clasificación con redes neuronales convolucionales (CNN)\n",
    "\n",
    "Ejemplo de clasificación utilizando redes neuronales para la clasificación de imagenes<br>\n",
    "\n",
    "v1.1"
   ]
  },
  {
   "cell_type": "code",
   "execution_count": null,
   "metadata": {
    "id": "y2sSeyEovSw-"
   },
   "outputs": [],
   "source": [
    "import os\n",
    "import platform\n",
    "\n",
    "import numpy as np\n",
    "import matplotlib.pyplot as plt\n",
    "import seaborn as sns\n",
    "import pandas as pd\n",
    "\n",
    "import keras\n",
    "from keras.models import Sequential\n",
    "#from keras.utils import to_categorical\n",
    "from keras.utils.np_utils import to_categorical # Si esto no funciona, probar con el import anterior"
   ]
  },
  {
   "cell_type": "markdown",
   "metadata": {
    "id": "7Szo7P_3v00C"
   },
   "source": [
    "# Recolectar datos\n",
    "<img src=\"https://raw.githubusercontent.com/InoveAlumnos/dataset_analytics_python/master/images/Pipeline1.png\" width=\"1000\" align=\"middle\">"
   ]
  },
  {
   "cell_type": "code",
   "execution_count": null,
   "metadata": {
    "colab": {
     "base_uri": "https://localhost:8080/"
    },
    "executionInfo": {
     "elapsed": 3223,
     "status": "ok",
     "timestamp": 1606424065115,
     "user": {
      "displayName": "Hernán Contigiani",
      "photoUrl": "https://lh3.googleusercontent.com/a-/AOh14Ggvg04lTitIUU72BS6D299tXlZG8qalV594KkKRfg=s64",
      "userId": "01142101934719343059"
     },
     "user_tz": 180
    },
    "id": "HnVpNGuAvyFi",
    "outputId": "a65c0209-d6b4-4545-f4af-b7e858f88734"
   },
   "outputs": [],
   "source": [
    "from keras.datasets import mnist\n",
    "\n",
    "# Leer el dataset de mnist\n",
    "(data_X_train, data_y_train), (data_X_test, data_y_test) = mnist.load_data()"
   ]
  },
  {
   "cell_type": "markdown",
   "metadata": {
    "id": "BbNSgxdfw0ix"
   },
   "source": [
    "### `MNIST dataset`:\n",
    "El dataset **`MNIST`** contiene 70.000 imagenes de números escritos a mano (números del 0 al 9, 10 dígitos). Cada imagen es de 28x28 píxeles en escala de grises (1 canal o 1 nivel de profundidad). Es uno de los dataset más utilizados para poner a prueba algoritmos de clasificación de imagenes.<br> [Dataset source](https://keras.io/api/datasets/mnist/)\n",
    "- La entrada (X) es una variable imagen de 28x28\n",
    "- La salida (y) es el dígito que representa la imagen en cuestión, un número de 0 al 9\n"
   ]
  },
  {
   "cell_type": "code",
   "execution_count": null,
   "metadata": {
    "colab": {
     "base_uri": "https://localhost:8080/",
     "height": 520
    },
    "executionInfo": {
     "elapsed": 5996,
     "status": "ok",
     "timestamp": 1606424067901,
     "user": {
      "displayName": "Hernán Contigiani",
      "photoUrl": "https://lh3.googleusercontent.com/a-/AOh14Ggvg04lTitIUU72BS6D299tXlZG8qalV594KkKRfg=s64",
      "userId": "01142101934719343059"
     },
     "user_tz": 180
    },
    "id": "rGbCJanFR8oL",
    "outputId": "05be3f7f-5bff-4bea-ad52-2181e0dee90c"
   },
   "outputs": [],
   "source": [
    "# Visualizar las 100 primeras imagenes\n",
    "fig = plt.figure(figsize=(16,9))\n",
    "for i in range(100):\n",
    "    ax = fig.add_subplot(10, 10, i+1)\n",
    "    ax.axis('off')\n",
    "    plt.imshow(data_X_train[i], cmap='Greys')\n",
    "plt.show()"
   ]
  },
  {
   "cell_type": "code",
   "execution_count": null,
   "metadata": {
    "colab": {
     "base_uri": "https://localhost:8080/",
     "height": 281
    },
    "executionInfo": {
     "elapsed": 5974,
     "status": "ok",
     "timestamp": 1606424067902,
     "user": {
      "displayName": "Hernán Contigiani",
      "photoUrl": "https://lh3.googleusercontent.com/a-/AOh14Ggvg04lTitIUU72BS6D299tXlZG8qalV594KkKRfg=s64",
      "userId": "01142101934719343059"
     },
     "user_tz": 180
    },
    "id": "1u7UhhVKR2qu",
    "outputId": "43f201b2-a1e9-401c-f65e-ff192043b41c"
   },
   "outputs": [],
   "source": [
    "plt.imshow(data_X_train[0], cmap='gray')\n",
    "plt.title(\"Número: \" + str(data_y_train[0]))\n",
    "plt.show()"
   ]
  },
  {
   "cell_type": "markdown",
   "metadata": {
    "id": "NHHsGe1Qypde"
   },
   "source": [
    "# Procesar datos\n",
    "<img src=\"https://raw.githubusercontent.com/InoveAlumnos/dataset_analytics_python/master/images/Pipeline2.png\" width=\"1000\" align=\"middle\">"
   ]
  },
  {
   "cell_type": "code",
   "execution_count": null,
   "metadata": {
    "colab": {
     "base_uri": "https://localhost:8080/"
    },
    "executionInfo": {
     "elapsed": 5960,
     "status": "ok",
     "timestamp": 1606424067903,
     "user": {
      "displayName": "Hernán Contigiani",
      "photoUrl": "https://lh3.googleusercontent.com/a-/AOh14Ggvg04lTitIUU72BS6D299tXlZG8qalV594KkKRfg=s64",
      "userId": "01142101934719343059"
     },
     "user_tz": 180
    },
    "id": "uvzaKBMbyoiy",
    "outputId": "e82bd608-f38a-4322-dd45-91ad25b19dea"
   },
   "outputs": [],
   "source": [
    "# Observar como está representada la imagen, ver fila del medio (14)\n",
    "print(data_X_train[0][14, :])"
   ]
  },
  {
   "cell_type": "code",
   "execution_count": null,
   "metadata": {
    "id": "Cw9HbE88y3wu"
   },
   "outputs": [],
   "source": [
    "# Por los resultados podemos ver que la imagen está representada de 0 a 255\n",
    "# Normalizamos los datos para que se encuentren entre 0 y 1\n",
    "X_train_norm = data_X_train / 255\n",
    "X_test_norm = data_X_test / 255"
   ]
  },
  {
   "cell_type": "code",
   "execution_count": null,
   "metadata": {
    "colab": {
     "base_uri": "https://localhost:8080/"
    },
    "executionInfo": {
     "elapsed": 5941,
     "status": "ok",
     "timestamp": 1606424067904,
     "user": {
      "displayName": "Hernán Contigiani",
      "photoUrl": "https://lh3.googleusercontent.com/a-/AOh14Ggvg04lTitIUU72BS6D299tXlZG8qalV594KkKRfg=s64",
      "userId": "01142101934719343059"
     },
     "user_tz": 180
    },
    "id": "LirgXKpiy8dr",
    "outputId": "e405de97-2582-472b-dd74-20d89cef833d"
   },
   "outputs": [],
   "source": [
    "print('Cantidad de datos en observacion:', X_train_norm.shape[0])"
   ]
  },
  {
   "cell_type": "code",
   "execution_count": null,
   "metadata": {
    "colab": {
     "base_uri": "https://localhost:8080/"
    },
    "executionInfo": {
     "elapsed": 5927,
     "status": "ok",
     "timestamp": 1606424067905,
     "user": {
      "displayName": "Hernán Contigiani",
      "photoUrl": "https://lh3.googleusercontent.com/a-/AOh14Ggvg04lTitIUU72BS6D299tXlZG8qalV594KkKRfg=s64",
      "userId": "01142101934719343059"
     },
     "user_tz": 180
    },
    "id": "N-HTzboa4q-5",
    "outputId": "b29050cf-474f-4976-ae2a-961657034c4d"
   },
   "outputs": [],
   "source": [
    "print('Tamaño de la imagen:', X_train_norm[0].shape)"
   ]
  },
  {
   "cell_type": "code",
   "execution_count": null,
   "metadata": {
    "colab": {
     "base_uri": "https://localhost:8080/"
    },
    "executionInfo": {
     "elapsed": 5909,
     "status": "ok",
     "timestamp": 1606424067906,
     "user": {
      "displayName": "Hernán Contigiani",
      "photoUrl": "https://lh3.googleusercontent.com/a-/AOh14Ggvg04lTitIUU72BS6D299tXlZG8qalV594KkKRfg=s64",
      "userId": "01142101934719343059"
     },
     "user_tz": 180
    },
    "id": "oOVQWWDa0F3O",
    "outputId": "66deb8fe-63d6-43cc-87a6-3820a22712d8"
   },
   "outputs": [],
   "source": [
    "# En estas imagenes si nescalas de grieses no vienen con el canal especificado\n",
    "# Deberia ser (28, 28, 1) para poder utilizar en una red CNN\n",
    "# Agregar el [samples][pixels][width][height]\n",
    "X_train = X_train_norm.reshape(data_X_train.shape[0], data_X_train.shape[1], data_X_train.shape[2], 1).astype('float32')\n",
    "X_test = X_test_norm.reshape(data_X_test.shape[0], data_X_test.shape[1], data_X_test.shape[2], 1).astype('float32')\n",
    "X_train.shape"
   ]
  },
  {
   "cell_type": "markdown",
   "metadata": {
    "id": "0BnzYdlRzBxz"
   },
   "source": [
    "# Explorar datos\n",
    "<img src=\"https://raw.githubusercontent.com/InoveAlumnos/dataset_analytics_python/master/images/Pipeline3.png\" width=\"1000\" align=\"middle\">"
   ]
  },
  {
   "cell_type": "code",
   "execution_count": null,
   "metadata": {
    "colab": {
     "base_uri": "https://localhost:8080/"
    },
    "executionInfo": {
     "elapsed": 5890,
     "status": "ok",
     "timestamp": 1606424067906,
     "user": {
      "displayName": "Hernán Contigiani",
      "photoUrl": "https://lh3.googleusercontent.com/a-/AOh14Ggvg04lTitIUU72BS6D299tXlZG8qalV594KkKRfg=s64",
      "userId": "01142101934719343059"
     },
     "user_tz": 180
    },
    "id": "9uWcuzLX58Z9",
    "outputId": "cea86708-0445-4090-aa14-1b0c480351c3"
   },
   "outputs": [],
   "source": [
    "# Observar el los primeros 10 datos del dataset de y_train\n",
    "print(data_y_train[:10])"
   ]
  },
  {
   "cell_type": "code",
   "execution_count": null,
   "metadata": {
    "colab": {
     "base_uri": "https://localhost:8080/",
     "height": 107
    },
    "executionInfo": {
     "elapsed": 6357,
     "status": "ok",
     "timestamp": 1606424068390,
     "user": {
      "displayName": "Hernán Contigiani",
      "photoUrl": "https://lh3.googleusercontent.com/a-/AOh14Ggvg04lTitIUU72BS6D299tXlZG8qalV594KkKRfg=s64",
      "userId": "01142101934719343059"
     },
     "user_tz": 180
    },
    "id": "X2w_eW5QI-hf",
    "outputId": "33394476-617c-46f5-bc5d-b01ba025c468"
   },
   "outputs": [],
   "source": [
    "# Exploramos los primeros diez 8 del dataset de train\n",
    "# Para ser graficando en escala de grises utilizamos el dataset\n",
    "# normalizado sin especificar la cantidad de canales\n",
    "fig = plt.figure(figsize=(16,9))\n",
    "j = 0\n",
    "\n",
    "for i in range(10):\n",
    "    ax = fig.add_subplot(1, 10, i+1)\n",
    "    ax.axis('off')\n",
    "    while True:\n",
    "        if data_y_train[j] == 8:\n",
    "            ax.imshow(X_train_norm[j], cmap='Greys')\n",
    "            j += 1\n",
    "            break\n",
    "        j += 1\n",
    "plt.show()"
   ]
  },
  {
   "cell_type": "code",
   "execution_count": null,
   "metadata": {
    "colab": {
     "base_uri": "https://localhost:8080/",
     "height": 107
    },
    "executionInfo": {
     "elapsed": 6343,
     "status": "ok",
     "timestamp": 1606424068391,
     "user": {
      "displayName": "Hernán Contigiani",
      "photoUrl": "https://lh3.googleusercontent.com/a-/AOh14Ggvg04lTitIUU72BS6D299tXlZG8qalV594KkKRfg=s64",
      "userId": "01142101934719343059"
     },
     "user_tz": 180
    },
    "id": "pvDJ8sx85JAH",
    "outputId": "55857c32-65cd-4ce8-b485-230b160a19e0"
   },
   "outputs": [],
   "source": [
    "# Exploramos los primeros diez 8 del dataset de test\n",
    "# Para ser graficando en escala de grises utilizamos el dataset\n",
    "# normalizado sin especificar la cantidad de canales\n",
    "fig = plt.figure(figsize=(16,9))\n",
    "j = 0\n",
    "\n",
    "for i in range(10):\n",
    "    ax = fig.add_subplot(1, 10, i+1)\n",
    "    ax.axis('off')\n",
    "    while True:\n",
    "        if data_y_test[j] == 8:\n",
    "            ax.imshow(X_test_norm[j], cmap='Greys')\n",
    "            j += 1\n",
    "            break\n",
    "        j += 1\n",
    "plt.show()"
   ]
  },
  {
   "cell_type": "markdown",
   "metadata": {
    "id": "7z_SuZlj3gbQ"
   },
   "source": [
    "# Entrenar modelo\n",
    "<img src=\"https://raw.githubusercontent.com/InoveAlumnos/dataset_analytics_python/master/images/Pipeline4.png\" width=\"1000\" align=\"middle\">"
   ]
  },
  {
   "cell_type": "markdown",
   "metadata": {
    "id": "ntY84fHj3q5q"
   },
   "source": [
    "Los datos ya estan dividios en train y test"
   ]
  },
  {
   "cell_type": "code",
   "execution_count": null,
   "metadata": {
    "colab": {
     "base_uri": "https://localhost:8080/"
    },
    "executionInfo": {
     "elapsed": 6331,
     "status": "ok",
     "timestamp": 1606424068392,
     "user": {
      "displayName": "Hernán Contigiani",
      "photoUrl": "https://lh3.googleusercontent.com/a-/AOh14Ggvg04lTitIUU72BS6D299tXlZG8qalV594KkKRfg=s64",
      "userId": "01142101934719343059"
     },
     "user_tz": 180
    },
    "id": "3vdIz9_r-sMe",
    "outputId": "2b49e880-c50a-43c5-b051-0bf73e36d069"
   },
   "outputs": [],
   "source": [
    "# Transformar la salida a oneHotEncoding con to_categorical\n",
    "y_train = to_categorical(data_y_train)\n",
    "y_test = to_categorical(data_y_test)\n",
    "y_train[:10]"
   ]
  },
  {
   "cell_type": "code",
   "execution_count": null,
   "metadata": {
    "colab": {
     "base_uri": "https://localhost:8080/"
    },
    "executionInfo": {
     "elapsed": 6316,
     "status": "ok",
     "timestamp": 1606424068393,
     "user": {
      "displayName": "Hernán Contigiani",
      "photoUrl": "https://lh3.googleusercontent.com/a-/AOh14Ggvg04lTitIUU72BS6D299tXlZG8qalV594KkKRfg=s64",
      "userId": "01142101934719343059"
     },
     "user_tz": 180
    },
    "id": "5Wb3oMvn-mIF",
    "outputId": "ebc54c78-a8f3-4fb5-b57d-43625da7f251"
   },
   "outputs": [],
   "source": [
    "# input shape\n",
    "in_shape = X_train.shape[1:]\n",
    "in_shape"
   ]
  },
  {
   "cell_type": "code",
   "execution_count": null,
   "metadata": {
    "colab": {
     "base_uri": "https://localhost:8080/"
    },
    "executionInfo": {
     "elapsed": 6300,
     "status": "ok",
     "timestamp": 1606424068394,
     "user": {
      "displayName": "Hernán Contigiani",
      "photoUrl": "https://lh3.googleusercontent.com/a-/AOh14Ggvg04lTitIUU72BS6D299tXlZG8qalV594KkKRfg=s64",
      "userId": "01142101934719343059"
     },
     "user_tz": 180
    },
    "id": "wpYcXh1g_N3Q",
    "outputId": "382617a0-9437-46b9-e8ef-2cd4ccab5068"
   },
   "outputs": [],
   "source": [
    "# output shape\n",
    "out_shape = y_train.shape[1]\n",
    "out_shape"
   ]
  },
  {
   "cell_type": "code",
   "execution_count": null,
   "metadata": {
    "colab": {
     "base_uri": "https://localhost:8080/"
    },
    "executionInfo": {
     "elapsed": 11660,
     "status": "ok",
     "timestamp": 1606424073758,
     "user": {
      "displayName": "Hernán Contigiani",
      "photoUrl": "https://lh3.googleusercontent.com/a-/AOh14Ggvg04lTitIUU72BS6D299tXlZG8qalV594KkKRfg=s64",
      "userId": "01142101934719343059"
     },
     "user_tz": 180
    },
    "id": "fu1u9JhXq9Dy",
    "outputId": "bea48871-5f7e-4695-ae25-e6aace2c9c4a"
   },
   "outputs": [],
   "source": [
    "from keras.layers import Dense, Dropout, Flatten\n",
    "from keras.layers.convolutional import Conv2D, MaxPooling2D\n",
    "\n",
    "model = Sequential()\n",
    "\n",
    "# Se utiliza 8 filtros de entrada y una sola par de capas CONV + POOL\n",
    "# para tener la misma cantidad de parámetros que los utilizados\n",
    "# en la redes ANN y DNN\n",
    "\n",
    "model.add(Conv2D(filters=8, kernel_size=(5, 5), strides=(1, 1), padding='same', activation='relu', input_shape=in_shape))\n",
    "model.add(MaxPooling2D(pool_size=(2, 2), strides=(2, 2)))\n",
    "\n",
    "model.add(Flatten())\n",
    "model.add(Dense(units=64, activation='relu'))\n",
    "model.add(Dense(units=out_shape, activation='softmax'))\n",
    "\n",
    "model.compile(optimizer=\"Adam\",\n",
    "              loss='categorical_crossentropy',\n",
    "              metrics=['accuracy'])\n",
    "\n",
    "model.summary()"
   ]
  },
  {
   "cell_type": "code",
   "execution_count": null,
   "metadata": {
    "colab": {
     "base_uri": "https://localhost:8080/"
    },
    "executionInfo": {
     "elapsed": 30681,
     "status": "ok",
     "timestamp": 1606424092790,
     "user": {
      "displayName": "Hernán Contigiani",
      "photoUrl": "https://lh3.googleusercontent.com/a-/AOh14Ggvg04lTitIUU72BS6D299tXlZG8qalV594KkKRfg=s64",
      "userId": "01142101934719343059"
     },
     "user_tz": 180
    },
    "id": "J_89g3dSm2wf",
    "outputId": "ba7583f9-5357-4350-fb6b-580bc2e6c388"
   },
   "outputs": [],
   "source": [
    "history = model.fit(X_train, y_train, validation_split=0.2 , epochs=10, batch_size=128)"
   ]
  },
  {
   "cell_type": "code",
   "execution_count": null,
   "metadata": {
    "colab": {
     "base_uri": "https://localhost:8080/",
     "height": 265
    },
    "executionInfo": {
     "elapsed": 31019,
     "status": "ok",
     "timestamp": 1606424093143,
     "user": {
      "displayName": "Hernán Contigiani",
      "photoUrl": "https://lh3.googleusercontent.com/a-/AOh14Ggvg04lTitIUU72BS6D299tXlZG8qalV594KkKRfg=s64",
      "userId": "01142101934719343059"
     },
     "user_tz": 180
    },
    "id": "xDuagYJHvNlm",
    "outputId": "e3f3c80b-bbac-413b-c24c-9aaa61194d91"
   },
   "outputs": [],
   "source": [
    "epoch_count = range(1, len(history.history['accuracy']) + 1)\n",
    "sns.lineplot(x=epoch_count,  y=history.history['accuracy'], label='train')\n",
    "sns.lineplot(x=epoch_count,  y=history.history['val_accuracy'], label='valid')\n",
    "plt.show()"
   ]
  },
  {
   "cell_type": "code",
   "execution_count": null,
   "metadata": {
    "colab": {
     "base_uri": "https://localhost:8080/"
    },
    "executionInfo": {
     "elapsed": 31393,
     "status": "ok",
     "timestamp": 1606424093534,
     "user": {
      "displayName": "Hernán Contigiani",
      "photoUrl": "https://lh3.googleusercontent.com/a-/AOh14Ggvg04lTitIUU72BS6D299tXlZG8qalV594KkKRfg=s64",
      "userId": "01142101934719343059"
     },
     "user_tz": 180
    },
    "id": "NL0_TMz7Em4o",
    "outputId": "05085afc-cb89-43cc-c956-853eb88f6863"
   },
   "outputs": [],
   "source": [
    "y_hat_prob = model.predict(X_test)\n",
    "y_hat_prob[:3]"
   ]
  },
  {
   "cell_type": "code",
   "execution_count": null,
   "metadata": {
    "colab": {
     "base_uri": "https://localhost:8080/"
    },
    "executionInfo": {
     "elapsed": 31387,
     "status": "ok",
     "timestamp": 1606424093537,
     "user": {
      "displayName": "Hernán Contigiani",
      "photoUrl": "https://lh3.googleusercontent.com/a-/AOh14Ggvg04lTitIUU72BS6D299tXlZG8qalV594KkKRfg=s64",
      "userId": "01142101934719343059"
     },
     "user_tz": 180
    },
    "id": "qxs4EZSBAZoh",
    "outputId": "bdb921e6-dfc4-4f28-acdd-535609772f3f"
   },
   "outputs": [],
   "source": [
    "y_hat = np.argmax(y_hat_prob,axis=1)\n",
    "y_hat[:3]"
   ]
  },
  {
   "cell_type": "markdown",
   "metadata": {
    "id": "w3IfjUuI4XnD"
   },
   "source": [
    "# Validar modelo\n",
    "<img src=\"https://raw.githubusercontent.com/InoveAlumnos/dataset_analytics_python/master/images/Pipeline5.png\" width=\"1000\" align=\"middle\">"
   ]
  },
  {
   "cell_type": "code",
   "execution_count": null,
   "metadata": {
    "colab": {
     "base_uri": "https://localhost:8080/"
    },
    "executionInfo": {
     "elapsed": 31832,
     "status": "ok",
     "timestamp": 1606424094001,
     "user": {
      "displayName": "Hernán Contigiani",
      "photoUrl": "https://lh3.googleusercontent.com/a-/AOh14Ggvg04lTitIUU72BS6D299tXlZG8qalV594KkKRfg=s64",
      "userId": "01142101934719343059"
     },
     "user_tz": 180
    },
    "id": "HnXeXHwdyHVx",
    "outputId": "d947a4f7-4cff-4618-ee28-1ce50fdf5b75"
   },
   "outputs": [],
   "source": [
    "# Calcular la exactitud (accuracy)\n",
    "scores = model.evaluate(X_test, y_test)\n",
    "scores[1]"
   ]
  },
  {
   "cell_type": "code",
   "execution_count": null,
   "metadata": {
    "colab": {
     "base_uri": "https://localhost:8080/",
     "height": 279
    },
    "executionInfo": {
     "elapsed": 32753,
     "status": "ok",
     "timestamp": 1606424094937,
     "user": {
      "displayName": "Hernán Contigiani",
      "photoUrl": "https://lh3.googleusercontent.com/a-/AOh14Ggvg04lTitIUU72BS6D299tXlZG8qalV594KkKRfg=s64",
      "userId": "01142101934719343059"
     },
     "user_tz": 180
    },
    "id": "TeLeYLYz6ZhO",
    "outputId": "8de72fb7-d743-44f2-e145-f7692184a3a2"
   },
   "outputs": [],
   "source": [
    "from sklearn.metrics import confusion_matrix, ConfusionMatrixDisplay\n",
    "cm = confusion_matrix(y_test.argmax(axis=1), y_hat)\n",
    "cmd = ConfusionMatrixDisplay(cm, display_labels=list(range(10)))\n",
    "cmd.plot(cmap=plt.cm.Blues)\n",
    "plt.show()"
   ]
  },
  {
   "cell_type": "markdown",
   "metadata": {
    "id": "9dZxGbjG96jR"
   },
   "source": [
    "# Utilizar modelo\n",
    "<img src=\"https://raw.githubusercontent.com/InoveAlumnos/dataset_analytics_python/master/images/Pipeline6.png\" width=\"1000\" align=\"middle\">"
   ]
  },
  {
   "cell_type": "markdown",
   "metadata": {
    "id": "M6Tc5nBqbow8"
   },
   "source": [
    "Se utiliza el ranking de los peores 10 números clasificados con una ANN para evlauar contra este nuevo modelo de red neuronal"
   ]
  },
  {
   "cell_type": "code",
   "execution_count": null,
   "metadata": {
    "id": "noOsuU6Tb4GZ"
   },
   "outputs": [],
   "source": [
    "ranking_10 = [8183, 6765, 8522, 1325, 582, 9280, 5749, 3567, 3206, 9744]"
   ]
  },
  {
   "cell_type": "code",
   "execution_count": null,
   "metadata": {
    "id": "Cefy3ktFb6j6"
   },
   "outputs": [],
   "source": [
    "# Obtener los vectores para evaluar\n",
    "X_test_peores = X_test[ranking_10]\n",
    "y_test_peores = y_test[ranking_10]"
   ]
  },
  {
   "cell_type": "code",
   "execution_count": null,
   "metadata": {
    "colab": {
     "base_uri": "https://localhost:8080/"
    },
    "executionInfo": {
     "elapsed": 32732,
     "status": "ok",
     "timestamp": 1606424094940,
     "user": {
      "displayName": "Hernán Contigiani",
      "photoUrl": "https://lh3.googleusercontent.com/a-/AOh14Ggvg04lTitIUU72BS6D299tXlZG8qalV594KkKRfg=s64",
      "userId": "01142101934719343059"
     },
     "user_tz": 180
    },
    "id": "kB1tr2blcKpB",
    "outputId": "329d57d0-64b5-40c9-ab72-c499d1473323"
   },
   "outputs": [],
   "source": [
    "# Calcular la exactitud\n",
    "score = model.evaluate(X_test_peores, y_test_peores)\n",
    "score[1]"
   ]
  },
  {
   "cell_type": "code",
   "execution_count": null,
   "metadata": {
    "colab": {
     "base_uri": "https://localhost:8080/"
    },
    "executionInfo": {
     "elapsed": 32722,
     "status": "ok",
     "timestamp": 1606424094941,
     "user": {
      "displayName": "Hernán Contigiani",
      "photoUrl": "https://lh3.googleusercontent.com/a-/AOh14Ggvg04lTitIUU72BS6D299tXlZG8qalV594KkKRfg=s64",
      "userId": "01142101934719343059"
     },
     "user_tz": 180
    },
    "id": "oBfhuPeccbGP",
    "outputId": "e492bc35-700f-44eb-bd8b-1594659bde69"
   },
   "outputs": [],
   "source": [
    "# ¿Qué es lo que el sistema ve?\n",
    "y_hat_prob_peores = model.predict(X_test_peores)\n",
    "y_hat_peores = np.argmax(y_hat_prob_peores,axis=1)\n",
    "y_hat_peores"
   ]
  },
  {
   "cell_type": "code",
   "execution_count": null,
   "metadata": {
    "colab": {
     "base_uri": "https://localhost:8080/",
     "height": 123
    },
    "executionInfo": {
     "elapsed": 33157,
     "status": "ok",
     "timestamp": 1606424095390,
     "user": {
      "displayName": "Hernán Contigiani",
      "photoUrl": "https://lh3.googleusercontent.com/a-/AOh14Ggvg04lTitIUU72BS6D299tXlZG8qalV594KkKRfg=s64",
      "userId": "01142101934719343059"
     },
     "user_tz": 180
    },
    "id": "yAxkIcGXcpLS",
    "outputId": "d083cca6-1e0c-409b-ab8b-f755993f069c"
   },
   "outputs": [],
   "source": [
    "\n",
    "fig = plt.figure(figsize=(16,9))\n",
    "j = 0\n",
    "\n",
    "for i in ranking_10:\n",
    "    ax = fig.add_subplot(1, 10, j+1)\n",
    "    ax.axis('off')\n",
    "    ax.imshow(X_test_norm[i], cmap='Greys')\n",
    "    ax.set_title(\"Número: \" + str(y_hat_peores[j]))\n",
    "    j += 1\n",
    "\n",
    "plt.show()"
   ]
  },
  {
   "cell_type": "markdown",
   "metadata": {
    "id": "h7yzVZcZ9-4m"
   },
   "source": [
    "# Conclusión\n",
    "<img src=\"https://raw.githubusercontent.com/InoveAlumnos/dataset_analytics_python/master/images/Pipeline7.png\" width=\"1000\" align=\"middle\">"
   ]
  },
  {
   "cell_type": "markdown",
   "metadata": {
    "id": "sWAReOgo-B7b"
   },
   "source": [
    "Al utilizar una red convolucional se obtuvo un resultado mucho mejor que en mismos ejemplos con ANN y DNN (deep larning). Esta red pudo caracterizar mejor los dígitos del dataset."
   ]
  },
  {
   "source": [
    "# Ejemplo con Radio"
   ],
   "cell_type": "markdown",
   "metadata": {}
  },
  {
   "source": [
    "Ejemplo con Gradio\n",
    "Gradio es una librería para realizar GUI rápida de prueba para nuestros modelos\\ \n",
    "Referencias:\n",
    "\n",
    "- https://www.gradio.app/getting_started\n",
    "- https://www.gradio.app/\n",
    "- https://www.gradio.app/docs"
   ],
   "cell_type": "markdown",
   "metadata": {}
  },
  {
   "cell_type": "code",
   "execution_count": null,
   "metadata": {},
   "outputs": [],
   "source": [
    "# Instalar Gradio\n",
    "import sys\n",
    "!{sys.executable} -m pip install gradio --quiet"
   ]
  },
  {
   "cell_type": "code",
   "execution_count": null,
   "metadata": {},
   "outputs": [],
   "source": [
    "import gradio as gr\n",
    "\n",
    "def recognize_digit(img):\n",
    "    # Normalizacion 0..1\n",
    "    img = img / 255.0\n",
    "\n",
    "    # Flatten\n",
    "    num_pixels = img.shape[0] * img.shape[1]\n",
    "    img = img.reshape(1, num_pixels).astype('float32')\n",
    "\n",
    "    # Predict\n",
    "    prediction = model.predict([img]).tolist()[0]\n",
    "    # Mostrar el puntaje de prediccion para cada digito\n",
    "    return {str(i): prediction[i] for i in range(10)}\n",
    "\n",
    "iface = gr.Interface(fn=recognize_digit, inputs=\"sketchpad\", outputs=\"label\").launch(debug=True)"
   ]
  }
 ],
 "metadata": {
  "accelerator": "GPU",
  "colab": {
   "collapsed_sections": [],
   "name": "1_mnist_cnn.ipynb",
   "provenance": []
  },
  "kernelspec": {
   "display_name": "Python 3",
   "language": "python",
   "name": "python3"
  },
  "language_info": {
   "codemirror_mode": {
    "name": "ipython",
    "version": 3
   },
   "file_extension": ".py",
   "mimetype": "text/x-python",
   "name": "python",
   "nbconvert_exporter": "python",
   "pygments_lexer": "ipython3",
   "version": "3.7.0"
  }
 },
 "nbformat": 4,
 "nbformat_minor": 4
}