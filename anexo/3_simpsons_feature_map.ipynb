{
  "nbformat": 4,
  "nbformat_minor": 0,
  "metadata": {
    "colab": {
      "provenance": [],
      "toc_visible": true
    },
    "kernelspec": {
      "display_name": "Python 3",
      "language": "python",
      "name": "python3"
    },
    "language_info": {
      "codemirror_mode": {
        "name": "ipython",
        "version": 3
      },
      "file_extension": ".py",
      "mimetype": "text/x-python",
      "name": "python",
      "nbconvert_exporter": "python",
      "pygments_lexer": "ipython3",
      "version": "3.7.0"
    },
    "accelerator": "GPU"
  },
  "cells": [
    {
      "cell_type": "markdown",
      "metadata": {
        "id": "67RBrvkUviuj"
      },
      "source": [
        "<a href=\"https://www.inove.com.ar\"><img src=\"https://raw.githubusercontent.com/InoveAlumnos/dataset_analytics_python/master/images/PA%20Banner.png\" width=\"1000\" align=\"center\"></a>\n",
        "\n",
        "\n",
        "# Mapa de características con redes neuronales convolucionales (CNN)\n",
        "\n",
        "Ejemplo de como generar el un mapa de características (feature map) utilizando redes neuronales convolucionales<br>\n",
        "\n",
        "v1.1"
      ]
    },
    {
      "cell_type": "markdown",
      "source": [
        "### **Objetivo:** Comprender el mapa de características de las Redes Neuronales Convolucionales"
      ],
      "metadata": {
        "id": "X6TPHU4XDaqb"
      }
    },
    {
      "cell_type": "code",
      "metadata": {
        "id": "y2sSeyEovSw-"
      },
      "source": [
        "#Librerias a implementar\n",
        "import os\n",
        "import platform\n",
        "\n",
        "import numpy as np\n",
        "import matplotlib.pyplot as plt\n",
        "import seaborn as sns\n",
        "import pandas as pd\n",
        "\n",
        "import keras\n",
        "from keras.models import Sequential\n",
        "\n",
        "from glob import glob\n",
        "import matplotlib.image as mpimg"
      ],
      "execution_count": null,
      "outputs": []
    },
    {
      "cell_type": "markdown",
      "metadata": {
        "id": "7Szo7P_3v00C"
      },
      "source": [
        "# Recolectar datos\n",
        "<img src=\"https://raw.githubusercontent.com/InoveAlumnos/dataset_analytics_python/master/images/Pipeline1.png\" width=\"1000\" align=\"middle\">"
      ]
    },
    {
      "cell_type": "markdown",
      "metadata": {
        "id": "BbNSgxdfw0ix"
      },
      "source": [
        "### `Simpsons dataset`:\n",
        "El dataset **`Simpsons`** contiene 550Mbytes de imagenes a color de los personajes de los Simpsons (47 personajes). Cada imagen es de tiene al rededor de 500x450 píxeles a color (3 canales).<br> [Dataset source](https://www.kaggle.com/paultimothymooney/zipfiles)"
      ]
    },
    {
      "cell_type": "markdown",
      "source": [
        "## Código de descarga del dataset Simpsons"
      ],
      "metadata": {
        "id": "HBCK1QZICvHD"
      }
    },
    {
      "cell_type": "code",
      "metadata": {
        "id": "P93XxVdLOpIN"
      },
      "source": [
        "# Descargar datos de test\n",
        "if os.access('simpsons_test', os.F_OK) is False:\n",
        "    if os.access('simpsons_test.zip', os.F_OK) is False:\n",
        "        if platform.system() == 'Windows':\n",
        "            !curl https://github.com/InoveAlumnos/dataset_analytics_python/raw/master/simpsons_test.zip > simpsons_test.zip\n",
        "        else:\n",
        "            !wget simpsons_test.zip https://github.com/InoveAlumnos/dataset_analytics_python/raw/master/simpsons_test.zip\n",
        "    !unzip -q simpsons_test.zip\n",
        "else:\n",
        "    print(\"El archivo ya se encuentra descargado\")"
      ],
      "execution_count": null,
      "outputs": []
    },
    {
      "cell_type": "code",
      "metadata": {
        "id": "xhiUYamTQVX6"
      },
      "source": [
        "# Levantar el modelo ya entrenado\n",
        "from keras.models import load_model\n",
        "model2 = load_model('cnn_simpsons.h5') "
      ],
      "execution_count": null,
      "outputs": []
    },
    {
      "cell_type": "code",
      "metadata": {
        "id": "9gponkPWQGi2"
      },
      "source": [
        "# Leer los datos de test\n",
        "# Se importa ImageDataGenerator del módulo de keras.preprocessing.image\n",
        "from keras.preprocessing.image import ImageDataGenerator\n",
        "\n",
        "# Crear un generador, indicando si deseamos realizar un escalado de la imagen\n",
        "test_datagen = ImageDataGenerator(rescale=1./255)\n",
        "\n",
        "# El método .flow_from_directory, toma la ruta a un directorio y genera lotes de datos aumentados.\n",
        "# target_size, se indica la dimensión de la imagen que se desea.\n",
        "# batch_size, la cantidad que va a tomar para aplicar la operación de escalado.\n",
        "# class_mode, es categorical ya que son varios personajes.\n",
        "test_generator = test_datagen.flow_from_directory(\n",
        "        directory=\"./simpsons_test\",\n",
        "        target_size=(150, 150),\n",
        "        batch_size=10,\n",
        "        class_mode=None,\n",
        "        shuffle=False)"
      ],
      "execution_count": null,
      "outputs": []
    },
    {
      "cell_type": "code",
      "metadata": {
        "id": "bYYeIsHYQUlI"
      },
      "source": [
        "# test_generator.next(), para observar los resultados de las siguientes 10 imágenes de la predección.\n",
        "batch_test = test_generator.next()"
      ],
      "execution_count": null,
      "outputs": []
    },
    {
      "cell_type": "code",
      "metadata": {
        "id": "sPDosAVBSkCE"
      },
      "source": [
        "# Dibujar el mapa de caracteristicas\n",
        "# Leer datos del modelo\n",
        "successive_outputs = [layer.output for layer in model2.layers[1:]]\n",
        "visualization_model = keras.models.Model(inputs = model2.input, outputs = successive_outputs)\n",
        "\n",
        "# Cargar una imagen, elegir número de 0 a 9\n",
        "x = np.array([batch_test[0]])\n",
        "\n",
        "# Obtener el rsultado de pasar la imagen por cada capa\n",
        "successive_feature_maps = visualization_model.predict(x)\n",
        "\n",
        "# Obtener los nombres de las capas\n",
        "layer_names = [layer.name for layer in model2.layers]\n",
        "\n",
        "# Formar el mapa de caracteristicas\n",
        "for layer_name, feature_map in zip(layer_names, successive_feature_maps):\n",
        "\n",
        "  if len(feature_map.shape) == 4:\n",
        "    \n",
        "    # Dibujar el feature map solo para CONV y POOL\n",
        "   \n",
        "    n_features = feature_map.shape[-1]  # number of features in the feature map\n",
        "    size       = feature_map.shape[ 1]  # feature map shape (1, size, size, n_features)\n",
        "    \n",
        "    display_grid = np.zeros((size, size * n_features))\n",
        "    \n",
        "    # Transformar el resultado para poder visualizarlo mejor\n",
        "    for i in range(n_features):\n",
        "      x  = feature_map[0, :, :, i]\n",
        "      x -= x.mean()\n",
        "      x /= x.std ()\n",
        "      x *=  64\n",
        "      x += 128\n",
        "      x  = np.clip(x, 0, 255).astype('uint8')\n",
        "      # Tile each filter into a horizontal grid\n",
        "      display_grid[:, i * size : (i + 1) * size] = x \n",
        "\n",
        "    # Dibujar\n",
        "    scale = 20. / n_features\n",
        "    plt.figure( figsize=(scale * n_features, scale) )\n",
        "    plt.title ( layer_name )\n",
        "    plt.grid  ( False )\n",
        "    plt.imshow( display_grid, aspect='auto', cmap='viridis' )\n",
        "\n",
        "print(\"En amarrillo se ve a lo que el filtro reacciona\")\n",
        "plt.show()"
      ],
      "execution_count": null,
      "outputs": []
    }
  ]
}